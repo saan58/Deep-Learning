{
 "cells": [
  {
   "cell_type": "code",
   "execution_count": null,
   "id": "35af8aba",
   "metadata": {},
   "outputs": [],
   "source": [
    "import tensorflow as tf\n",
    "from tensorflow.keras.applications import VGG16\n",
    "from tensorflow.keras.preprocessing.image import ImageDataGenerator\n",
    "\n",
    "dataset_dir=r'C:\\Users\\Sanika\\Downloads\\archive (3)\\caltech-101'\n",
    "\n",
    "datagen = ImageDataGenerator(rescale = 1.0/255)\n",
    "\n",
    "dataset_generator = datagen.flow_from_directory(dataset_dir, target_size = (64,64), batch_size = 2000, class_mode='categorical')\n",
    "\n",
    "x_train,y_train=dataset_generator[0]\n",
    "x_test,y_test=dataset_generator[1]\n",
    "\n",
    "from tensorflow.keras.models import Model\n",
    "from tensorflow.keras.layers import Dense, Flatten,Dropout\n",
    "from tensorflow.keras.optimizers import Adam\n",
    "\n",
    "weights_path='vgg16_weights_tf_dim_ordering_tf_kernels_notop.h5'\n",
    "base_model= VGG16(weights=weights_path, include_top=False, input_shape=(64,64,3))\n",
    "\n",
    "for layer in base_model.layers:\n",
    "    layer.trainable=False\n",
    "    \n",
    "for layer in base_model.layers[len(base_model.layers)-2:]:\n",
    "    layer.trainable=True\n",
    "\n",
    "# Use GlobalAveragePooling2D instead of Flatten\n",
    "from tensorflow.keras.layers import GlobalAveragePooling2D\n",
    "x = GlobalAveragePooling2D()(base_model.output)\n",
    "x= Dense(512,activation='relu')(x)\n",
    "x= Dropout(0.3)(x)\n",
    "predictions= Dense(102,activation='softmax')(x)\n",
    "\n",
    "model= Model(inputs=base_model.input,outputs=predictions)\n",
    "\n",
    "model.compile(optimizer=Adam(learning_rate=0.001),loss='categorical_crossentropy',metrics=['accuracy'])\n",
    "\n",
    "model.fit(x_train,y_train,epochs=20,batch_size=64,validation_data=(x_test,y_test))\n",
    "\n",
    "\n",
    "predict_value= model.predict(x_test)\n",
    "\n",
    "labels = dataset_generator.class_indices\n",
    "labels = {v: k for k, v in labels.items()} \n",
    "\n",
    "import numpy as np\n",
    "import matplotlib.pyplot as plt\n",
    "n=5\n",
    "plt.imshow(x_test[n])\n",
    "print(\"predicted: \",labels[np.argmax(predict_value[n])])\n",
    "print(\"true val: \",labels[np.argmax(y_test[n])])\n"
   ]
  },
  {
   "cell_type": "code",
   "execution_count": 30,
   "id": "e2d45592",
   "metadata": {},
   "outputs": [],
   "source": [
    "import tensorflow as tf\n",
    "from tensorflow.keras.applications import VGG16\n",
    "from tensorflow.keras.preprocessing.image import ImageDataGenerator\n",
    "from tensorflow.keras.models import Model\n",
    "from tensorflow.keras.layers import Dense,Dropout,Flatten, GlobalAveragePooling2D\n",
    "from tensorflow.keras.optimizers import Adam"
   ]
  },
  {
   "cell_type": "code",
   "execution_count": 13,
   "id": "eb587f58",
   "metadata": {},
   "outputs": [],
   "source": [
    "dataset_dir=r'C:\\Users\\Sanika\\Downloads\\archive (3)\\caltech-101'"
   ]
  },
  {
   "cell_type": "code",
   "execution_count": 14,
   "id": "854508f9",
   "metadata": {},
   "outputs": [],
   "source": [
    "data_gen = ImageDataGenerator(rescale=1.0/255)"
   ]
  },
  {
   "cell_type": "code",
   "execution_count": 15,
   "id": "6e4b6835",
   "metadata": {},
   "outputs": [
    {
     "name": "stdout",
     "output_type": "stream",
     "text": [
      "Found 9144 images belonging to 102 classes.\n"
     ]
    }
   ],
   "source": [
    "data_generator= data_gen.flow_from_directory(\n",
    "    dataset_dir,\n",
    "    target_size=(64,64),\n",
    "    batch_size=2000,\n",
    "    class_mode='categorical'\n",
    ")"
   ]
  },
  {
   "cell_type": "code",
   "execution_count": 16,
   "id": "eeac1175",
   "metadata": {},
   "outputs": [],
   "source": [
    "x_train,y_train=data_generator[0]\n",
    "x_test,y_test=data_generator[1]"
   ]
  },
  {
   "cell_type": "code",
   "execution_count": 17,
   "id": "136c6c10",
   "metadata": {},
   "outputs": [],
   "source": [
    "weights_path='vgg16_weights_tf_dim_ordering_tf_kernels_notop.h5'\n",
    "base_model= VGG16(weights=weights_path,include_top=False,input_shape=(64,64,3))"
   ]
  },
  {
   "cell_type": "code",
   "execution_count": 27,
   "id": "5d2749f2",
   "metadata": {},
   "outputs": [],
   "source": [
    "for layer in base_model.layers:\n",
    "    layer.trainable=False\n",
    "    \n",
    "for layer in base_model.layers[len(base_model.layers)-2:]:\n",
    "    layer.trainable=True\n",
    "    \n",
    "x= GlobalAveragePooling2D()(base_model.output)\n",
    "x= Dense(512,activation='relu')(x)\n",
    "x= Dropout(0.3)(x)\n",
    "predictions= Dense(102,activation='softmax')(x)"
   ]
  },
  {
   "cell_type": "code",
   "execution_count": 31,
   "id": "f8743291",
   "metadata": {},
   "outputs": [],
   "source": [
    "model = Model(inputs=base_model.input, outputs=predictions)\n",
    "model.compile(optimizer=Adam(learning_rate=0.001),loss='categorical_crossentropy',metrics=['accuracy'])"
   ]
  },
  {
   "cell_type": "code",
   "execution_count": null,
   "id": "e2c8cf51",
   "metadata": {},
   "outputs": [
    {
     "name": "stdout",
     "output_type": "stream",
     "text": [
      "Epoch 1/20\n",
      "\u001b[1m32/32\u001b[0m \u001b[32m━━━━━━━━━━━━━━━━━━━━\u001b[0m\u001b[37m\u001b[0m \u001b[1m30s\u001b[0m 904ms/step - accuracy: 0.2457 - loss: 3.7400 - val_accuracy: 0.4390 - val_loss: 2.5612\n",
      "Epoch 2/20\n",
      "\u001b[1m32/32\u001b[0m \u001b[32m━━━━━━━━━━━━━━━━━━━━\u001b[0m\u001b[37m\u001b[0m \u001b[1m34s\u001b[0m 1s/step - accuracy: 0.5037 - loss: 2.1224 - val_accuracy: 0.5340 - val_loss: 2.0288\n",
      "Epoch 3/20\n",
      "\u001b[1m32/32\u001b[0m \u001b[32m━━━━━━━━━━━━━━━━━━━━\u001b[0m\u001b[37m\u001b[0m \u001b[1m33s\u001b[0m 1s/step - accuracy: 0.6263 - loss: 1.4754 - val_accuracy: 0.5755 - val_loss: 1.7893\n",
      "Epoch 4/20\n",
      "\u001b[1m32/32\u001b[0m \u001b[32m━━━━━━━━━━━━━━━━━━━━\u001b[0m\u001b[37m\u001b[0m \u001b[1m35s\u001b[0m 1s/step - accuracy: 0.7266 - loss: 1.0580 - val_accuracy: 0.5855 - val_loss: 1.7202\n",
      "Epoch 5/20\n",
      "\u001b[1m32/32\u001b[0m \u001b[32m━━━━━━━━━━━━━━━━━━━━\u001b[0m\u001b[37m\u001b[0m \u001b[1m39s\u001b[0m 1s/step - accuracy: 0.7926 - loss: 0.7511 - val_accuracy: 0.6050 - val_loss: 1.6899\n",
      "Epoch 6/20\n",
      "\u001b[1m32/32\u001b[0m \u001b[32m━━━━━━━━━━━━━━━━━━━━\u001b[0m\u001b[37m\u001b[0m \u001b[1m42s\u001b[0m 1s/step - accuracy: 0.8709 - loss: 0.4958 - val_accuracy: 0.6195 - val_loss: 1.6734\n",
      "Epoch 7/20\n",
      "\u001b[1m32/32\u001b[0m \u001b[32m━━━━━━━━━━━━━━━━━━━━\u001b[0m\u001b[37m\u001b[0m \u001b[1m45s\u001b[0m 1s/step - accuracy: 0.9138 - loss: 0.3349 - val_accuracy: 0.6300 - val_loss: 1.7343\n",
      "Epoch 8/20\n",
      "\u001b[1m32/32\u001b[0m \u001b[32m━━━━━━━━━━━━━━━━━━━━\u001b[0m\u001b[37m\u001b[0m \u001b[1m46s\u001b[0m 1s/step - accuracy: 0.9236 - loss: 0.2459 - val_accuracy: 0.6310 - val_loss: 1.7308\n",
      "Epoch 9/20\n",
      "\u001b[1m32/32\u001b[0m \u001b[32m━━━━━━━━━━━━━━━━━━━━\u001b[0m\u001b[37m\u001b[0m \u001b[1m43s\u001b[0m 1s/step - accuracy: 0.9521 - loss: 0.1763 - val_accuracy: 0.6260 - val_loss: 1.8541\n",
      "Epoch 10/20\n",
      "\u001b[1m32/32\u001b[0m \u001b[32m━━━━━━━━━━━━━━━━━━━━\u001b[0m\u001b[37m\u001b[0m \u001b[1m42s\u001b[0m 1s/step - accuracy: 0.9744 - loss: 0.1061 - val_accuracy: 0.6415 - val_loss: 1.7462\n",
      "Epoch 11/20\n",
      "\u001b[1m32/32\u001b[0m \u001b[32m━━━━━━━━━━━━━━━━━━━━\u001b[0m\u001b[37m\u001b[0m \u001b[1m42s\u001b[0m 1s/step - accuracy: 0.9823 - loss: 0.0806 - val_accuracy: 0.6380 - val_loss: 1.8835\n",
      "Epoch 12/20\n",
      "\u001b[1m32/32\u001b[0m \u001b[32m━━━━━━━━━━━━━━━━━━━━\u001b[0m\u001b[37m\u001b[0m \u001b[1m43s\u001b[0m 1s/step - accuracy: 0.9870 - loss: 0.0509 - val_accuracy: 0.6300 - val_loss: 1.8682\n",
      "Epoch 13/20\n",
      "\u001b[1m16/32\u001b[0m \u001b[32m━━━━━━━━━━\u001b[0m\u001b[37m━━━━━━━━━━\u001b[0m \u001b[1m11s\u001b[0m 729ms/step - accuracy: 0.9778 - loss: 0.0814"
     ]
    }
   ],
   "source": [
    "model.fit(x_train,y_train,epochs=20,batch_size=64,validation_data=(x_test,y_test))"
   ]
  },
  {
   "cell_type": "code",
   "execution_count": null,
   "id": "b6674dc3",
   "metadata": {},
   "outputs": [],
   "source": [
    "predictions=model.predict(x_test)\n",
    "labels= dataset_generator.class_indices()\n",
    "labels= {v:k for v,k labels.items()}"
   ]
  },
  {
   "cell_type": "code",
   "execution_count": null,
   "id": "59b1a5bb",
   "metadata": {},
   "outputs": [],
   "source": [
    "n\n",
    "import matplotlib.pyplot as plt\n",
    "n=5\n",
    "plt.imshow(x_test[n])\n",
    "print('predicted: ',labels[np.argmax(predictions[n])])\n",
    "print('true: ', labels[np.argmax(y_test[n])])"
   ]
  }
 ],
 "metadata": {
  "kernelspec": {
   "display_name": "Python 3 (ipykernel)",
   "language": "python",
   "name": "python3"
  },
  "language_info": {
   "codemirror_mode": {
    "name": "ipython",
    "version": 3
   },
   "file_extension": ".py",
   "mimetype": "text/x-python",
   "name": "python",
   "nbconvert_exporter": "python",
   "pygments_lexer": "ipython3",
   "version": "3.11.5"
  }
 },
 "nbformat": 4,
 "nbformat_minor": 5
}
